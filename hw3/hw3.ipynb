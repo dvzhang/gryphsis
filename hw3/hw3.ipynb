{
 "cells": [
  {
   "attachments": {},
   "cell_type": "markdown",
   "metadata": {},
   "source": [
    "# HW 3\n",
    "\n",
    "> By Frank-Zhang.eth\n",
    "> \n",
    "> My contact info: [Twitter](https://twitter.com/dvzhangtz) [Linkedin](https://www.linkedin.com/in/tianzuo-zhang/) Wechat: dvzhangtz"
   ]
  },
  {
   "attachments": {},
   "cell_type": "markdown",
   "metadata": {},
   "source": [
    "我们有 10 个独立 IP 进行项目交互，每个独立 IP 里面创建了 5 个Metamask 钱包，按照 IP-Wallet 的形式进行一一编号，如1-1、6-5、7-3 等。单一项目交互，会从 10 个 IP 池中选取 8 个 IP，并且每个 IP 选取 1 个钱包进行撸空投。假设任意 4 个钱包参加过 3 个或 3 个以上的相同的项目交互会被判定为女巫攻击（Sybil Attack），在这样的条件下Gryphsis准备的这批物料最多能参加多少个不同的项目？请写出计算过程，设计出一套「密码本」，交互过程严格按照「密码本」进行。"
   ]
  },
  {
   "cell_type": "code",
   "execution_count": 1,
   "metadata": {},
   "outputs": [],
   "source": [
    "from itertools import combinations, permutations, product\n",
    "from collections import defaultdict\n",
    "\n",
    "def def_value():\n",
    "    return 0"
   ]
  },
  {
   "cell_type": "code",
   "execution_count": 2,
   "metadata": {},
   "outputs": [],
   "source": [
    "def create_sybils(ip_pool, wallets):\n",
    "    \"\"\"\n",
    "    Parameters:\n",
    "    ip_pool - the ip list, which contain 8 ip, will be used. ex:(2, 3, 5, 6, 7, 8, 9, 10)\n",
    "    wallets - the wallets will be used ex: [1, 2, 3, 4, 5]\n",
    "\n",
    "    Returns:\n",
    "        all possible combination between ip_pool & wallets\n",
    "        \n",
    "    EX:\n",
    "        len(create_sybils((2, 3, 5, 6, 7, 8, 9, 10), range(1, 6))) == 390625 == 5^8\n",
    "    \"\"\"\n",
    "    # 递归结束\n",
    "    if len(ip_pool) == 1:\n",
    "        return [[\"{}-{}\".format(ip_pool[0], wallet)] for wallet in wallets]\n",
    "    # 递归，减而治之\n",
    "    sybils = create_sybils(ip_pool[1:], wallets)\n",
    "    ans = []\n",
    "    for sybil in sybils:\n",
    "        for wallet in wallets:\n",
    "            ans.append([\"{}-{}\".format(ip_pool[0], wallet)] + sybil)\n",
    "    return ans"
   ]
  },
  {
   "cell_type": "code",
   "execution_count": 3,
   "metadata": {},
   "outputs": [],
   "source": [
    "def canUse(sybil, cooc_dict, walletNum_thres = 4, cooc_thres = 3):\n",
    "    \"\"\"\n",
    "    check if we add this sybil to our code book, will we be detected\n",
    "    \"\"\"\n",
    "    comb = list(combinations(sybil, walletNum_thres))\n",
    "    for cooc_sybil in comb:\n",
    "        if cooc_dict[\" \".join(cooc_sybil)] == cooc_thres:\n",
    "            return False\n",
    "    for cooc_sybil in comb:\n",
    "        cooc_dict[\" \".join(cooc_sybil)] += 1\n",
    "    return True"
   ]
  },
  {
   "cell_type": "code",
   "execution_count": 4,
   "metadata": {},
   "outputs": [],
   "source": [
    "def sybil_hunter(sybil_list, ip_num=10, wallet_num=5):\n",
    "    \"\"\"\n",
    "    check whether some addresses are sybil\n",
    "    \"\"\"\n",
    "    ips = range(1, 1+ip_num)\n",
    "    sybilCom_dict = combinations(ips, 8)\n",
    "    # co-occurrence counter\n",
    "    cooc_dict = defaultdict(def_value)\n",
    "    for sybil in sybil_list:\n",
    "        if not canUse(sybil, cooc_dict):\n",
    "            return False\n",
    "    # for i in cooc_dict:\n",
    "    #     print(\"{}\\t{}\".format(i, cooc_dict[i]))\n",
    "    return True"
   ]
  },
  {
   "cell_type": "code",
   "execution_count": 5,
   "metadata": {},
   "outputs": [],
   "source": [
    "def sybilAttact_queue(ip_num=10, wallet_num=5):\n",
    "    ips = range(1, 1+ip_num)\n",
    "    wallets = range(1, 1+wallet_num)\n",
    "    \n",
    "    sybilCom_dict = combinations(ips, 8)\n",
    "\n",
    "    # co-occurrence counter\n",
    "    cooc_dict = defaultdict(def_value)\n",
    "    ans = []\n",
    "    \n",
    "    for i, ip_pool in enumerate(sybilCom_dict):\n",
    "        for sybil in create_sybils(ip_pool, wallets):\n",
    "            if canUse(sybil, cooc_dict):\n",
    "                ans.append(sybil)\n",
    "                \n",
    "    print(len(ans))\n",
    "    print(ans[:20])\n",
    "    # print(sybil_hunter(ans))"
   ]
  },
  {
   "cell_type": "code",
   "execution_count": 6,
   "metadata": {},
   "outputs": [
    {
     "name": "stdout",
     "output_type": "stream",
     "text": [
      "2254\n",
      "[['1-1', '2-1', '3-1', '4-1', '5-1', '6-1', '7-1', '8-1'], ['1-2', '2-1', '3-1', '4-1', '5-1', '6-1', '7-1', '8-1'], ['1-3', '2-1', '3-1', '4-1', '5-1', '6-1', '7-1', '8-1'], ['1-1', '2-2', '3-2', '4-2', '5-2', '6-1', '7-1', '8-1'], ['1-2', '2-2', '3-2', '4-2', '5-2', '6-1', '7-1', '8-1'], ['1-3', '2-2', '3-2', '4-2', '5-2', '6-1', '7-1', '8-1'], ['1-1', '2-3', '3-3', '4-3', '5-3', '6-1', '7-1', '8-1'], ['1-2', '2-3', '3-3', '4-3', '5-3', '6-1', '7-1', '8-1'], ['1-3', '2-3', '3-3', '4-3', '5-3', '6-1', '7-1', '8-1'], ['1-4', '2-4', '3-4', '4-4', '5-4', '6-1', '7-1', '8-1'], ['1-5', '2-4', '3-4', '4-4', '5-4', '6-1', '7-1', '8-1'], ['1-4', '2-5', '3-4', '4-4', '5-4', '6-1', '7-1', '8-1'], ['1-4', '2-4', '3-5', '4-5', '5-5', '6-1', '7-1', '8-1'], ['1-5', '2-5', '3-5', '4-5', '5-5', '6-1', '7-1', '8-1'], ['1-1', '2-4', '3-3', '4-2', '5-1', '6-2', '7-1', '8-1'], ['1-2', '2-4', '3-3', '4-2', '5-1', '6-2', '7-1', '8-1'], ['1-3', '2-4', '3-3', '4-2', '5-1', '6-2', '7-1', '8-1'], ['1-1', '2-3', '3-4', '4-1', '5-2', '6-2', '7-1', '8-1'], ['1-2', '2-3', '3-4', '4-1', '5-2', '6-2', '7-1', '8-1'], ['1-3', '2-3', '3-4', '4-1', '5-2', '6-2', '7-1', '8-1']]\n"
     ]
    }
   ],
   "source": [
    "sybilAttact_queue()"
   ]
  }
 ],
 "metadata": {
  "kernelspec": {
   "display_name": "base",
   "language": "python",
   "name": "python3"
  },
  "language_info": {
   "codemirror_mode": {
    "name": "ipython",
    "version": 3
   },
   "file_extension": ".py",
   "mimetype": "text/x-python",
   "name": "python",
   "nbconvert_exporter": "python",
   "pygments_lexer": "ipython3",
   "version": "3.9.12"
  },
  "orig_nbformat": 4,
  "vscode": {
   "interpreter": {
    "hash": "da4b4aa53de7157e863cc6e6a637b366e80bc0572e6056353dff66b1cc92c175"
   }
  }
 },
 "nbformat": 4,
 "nbformat_minor": 2
}
